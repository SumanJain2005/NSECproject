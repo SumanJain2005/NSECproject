{
  "nbformat": 4,
  "nbformat_minor": 0,
  "metadata": {
    "colab": {
      "provenance": []
    },
    "kernelspec": {
      "name": "python3",
      "display_name": "Python 3"
    },
    "language_info": {
      "name": "python"
    }
  },
  "cells": [
    {
      "cell_type": "markdown",
      "source": [
        "# Code Demystifter"
      ],
      "metadata": {
        "id": "BPsI6gyQGcNx"
      }
    },
    {
      "cell_type": "code",
      "execution_count": 6,
      "metadata": {
        "colab": {
          "base_uri": "https://localhost:8080/"
        },
        "id": "PUelZpWX8s85",
        "outputId": "7274406d-be4f-4c6d-e72e-3cc2046efa4d"
      },
      "outputs": [
        {
          "output_type": "stream",
          "name": "stdout",
          "text": [
            "Enter the range: 9\n",
            "0\n",
            "1\n",
            "2\n",
            "5\n",
            "12\n",
            "29\n",
            "70\n",
            "169\n",
            "408\n"
          ]
        }
      ],
      "source": [
        "def pell(n):\n",
        "    if n == 0:\n",
        "        return 0\n",
        "    elif n == 1:\n",
        "        return 1\n",
        "    else:\n",
        "        return 2 * pell(n - 1) + pell(n - 2)\n",
        "\n",
        "r = int(input(\"Enter the range: \"))\n",
        "for i in range(r):\n",
        "    print(pell(i))\n"
      ]
    },
    {
      "cell_type": "code",
      "source": [
        "def fibonacci(n):\n",
        "    if n == 0:\n",
        "        return 0\n",
        "    elif n == 1:\n",
        "        return 1\n",
        "    else:\n",
        "        return fibonacci(n - 1) + fibonacci(n - 2)\n",
        "\n",
        "n = int(input(\"Enter a number: \"))\n",
        "for i in range(r):\n",
        "    print(fibonacci(i))\n"
      ],
      "metadata": {
        "colab": {
          "base_uri": "https://localhost:8080/"
        },
        "id": "zCfpsK-98zUY",
        "outputId": "aab19a7b-2db8-49be-9584-27995fad7f5a"
      },
      "execution_count": 7,
      "outputs": [
        {
          "output_type": "stream",
          "name": "stdout",
          "text": [
            "Enter a number: 8\n",
            "0\n",
            "1\n",
            "1\n",
            "2\n",
            "3\n",
            "5\n",
            "8\n",
            "13\n",
            "21\n"
          ]
        }
      ]
    },
    {
      "cell_type": "markdown",
      "source": [
        "# Text Condenser"
      ],
      "metadata": {
        "id": "GuPRTT7bGQyR"
      }
    },
    {
      "cell_type": "code",
      "source": [
        "Artificial Intelligence (AI) is a transformative technology that mimics human intelligence through algorithms and machine learning models. It encompasses a range of capabilities, from basic rule-based systems to advanced neural networks capable of deep learning. AI's core functions include learning from data, recognizing patterns, making decisions, and improving over time through experience.\n",
        "Machine learning, a subset of AI, allows systems to learn and adapt without explicit programming. It powers applications like recommendation engines, fraud detection, and personalized marketing. Natural Language Processing (NLP) enables machines to understand, interpret, and generate human language, facilitating chatbots, virtual assistants, and language translation services.\n",
        "Computer vision, another critical AI domain, enables machines to analyze and interpret visual data from the world, making autonomous vehicles, facial recognition, and medical imaging possible. AI's impact is profound across various sectors. In healthcare, AI aids in diagnostics, personalized treatment plans, and predictive analytics. In finance, it enhances risk management, algorithmic trading, and customer service.\n",
        "AI is also revolutionizing manufacturing through automation and predictive maintenance, while in education, it offers personalized learning experiences. Despite its benefits, AI raises ethical and societal concerns, such as job displacement, privacy issues, and the potential for biased decision-making. Addressing these challenges requires thoughtful regulation and ethical AI development. As AI continues to advance, it promises to unlock new possibilities and drive significant innovation across all aspects of life."
      ],
      "metadata": {
        "id": "NM_YNbIb99Rz"
      },
      "execution_count": null,
      "outputs": []
    },
    {
      "cell_type": "code",
      "source": [
        "The French Revolution, which began in 1789, was a landmark event in world history characterized by drastic political and social changes. Triggered by widespread discontent with the monarchy’s extravagance, heavy taxation, and stark social inequalities, it aimed to dismantle the feudal system and address the grievances of the Third Estate—the common people. The revolution commenced with the storming of the Bastille on July 14, 1789, symbolizing the fight against oppression. It led to the abolition of feudal privileges and the proclamation of the Declaration of the Rights of Man and of the Citizen, advocating for liberty, equality, and fraternity.\n",
        "The revolution saw the fall of King Louis XVI and the rise of radical factions like the Jacobins, spearheaded by figures such as Maximilien Robespierre. The Reign of Terror ensued, a period marked by mass executions of perceived enemies of the revolution. Amidst the chaos and political instability, the revolution profoundly altered the social fabric of France, leading to the rise of secularism and the reduction of the Church’s power.\n",
        "Ultimately, the revolution set the stage for the rise of Napoleon Bonaparte, who capitalized on the power vacuum to establish himself as Emperor. Despite its violent and turbulent nature, the French Revolution was instrumental in laying the foundations for modern democratic institutions and inspiring future movements for social and political reform across the globe."
      ],
      "metadata": {
        "id": "NvgneqSN-W3R"
      },
      "execution_count": null,
      "outputs": []
    },
    {
      "cell_type": "markdown",
      "source": [
        "# Knowledge Engine"
      ],
      "metadata": {
        "id": "8W3s7GqvGKEl"
      }
    },
    {
      "cell_type": "code",
      "source": [
        "difference between == and === in javascript"
      ],
      "metadata": {
        "id": "13qOkafuA82k"
      },
      "execution_count": null,
      "outputs": []
    },
    {
      "cell_type": "code",
      "source": [
        "what should be the minimum requirment to run windows 11?"
      ],
      "metadata": {
        "id": "JCeBBRMsA8ol"
      },
      "execution_count": null,
      "outputs": []
    },
    {
      "cell_type": "code",
      "source": [
        "what is difference between kilometer and a mile?"
      ],
      "metadata": {
        "id": "6ZyEVLCIGnUp"
      },
      "execution_count": null,
      "outputs": []
    }
  ]
}